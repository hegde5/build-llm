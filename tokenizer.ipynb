{
 "cells": [
  {
   "cell_type": "code",
   "execution_count": 37,
   "id": "fbd7f39f-f03f-4dd4-be76-279218ff3de7",
   "metadata": {},
   "outputs": [
    {
     "name": "stdout",
     "output_type": "stream",
     "text": [
      "Total number of characters:  20479\n",
      "Sample Text(first 100 characters):  I HAD always thought Jack Gisburn rather a cheap genius--though a good fellow enough--so it was no \n"
     ]
    }
   ],
   "source": [
    "# Read text from the book\n",
    "with open(\"the-verdict.txt\", encoding=\"utf-8\") as fd:\n",
    "    text = fd.read()\n",
    "\n",
    "print(\"Total number of characters: \", len(text))\n",
    "print(\"Sample Text(first 100 characters): \", text[:99])"
   ]
  },
  {
   "cell_type": "code",
   "execution_count": 38,
   "id": "5025ea87-5f02-41e7-a00e-4b2acaf743bd",
   "metadata": {},
   "outputs": [
    {
     "name": "stdout",
     "output_type": "stream",
     "text": [
      "Total length of preprocced text:  4690\n",
      "Sample preproccessed text:  ['I', 'HAD', 'always', 'thought', 'Jack', 'Gisburn', 'rather', 'a', 'cheap', 'genius', '--', 'though', 'a', 'good', 'fellow', 'enough', '--', 'so', 'it', 'was', 'no', 'great', 'surprise', 'to', 'me', 'to', 'hear', 'that', ',', 'in', 'the', 'height', 'of', 'his', 'glory', ',', 'he', 'had', 'dropped', 'his', 'painting', ',', 'married', 'a', 'rich', 'widow', ',', 'and', 'established', 'himself']\n"
     ]
    }
   ],
   "source": [
    "# Split the text based on whitespaces, commas and dots.\n",
    "import re\n",
    "\n",
    "expr = r'([,.:;?_!\"()\\'\\s]|--)'\n",
    "preproccessed_text = re.split(expr, text)\n",
    "\n",
    "preproccessed_text = [token for token in preproccessed_text if token.strip()]\n",
    "print(\"Total length of preprocced text: \", len(preproccessed_text))\n",
    "print(\"Sample preproccessed text: \", preproccessed_text[:50])"
   ]
  },
  {
   "cell_type": "code",
   "execution_count": 39,
   "id": "7bebdc45-348b-4554-8b8b-1d9f2e0f1b99",
   "metadata": {},
   "outputs": [
    {
     "name": "stdout",
     "output_type": "stream",
     "text": [
      "Vocabulary size:  1130\n",
      "Sample vocabulary:\n",
      "(!, 0)\n",
      "(\", 1)\n",
      "(', 2)\n",
      "((, 3)\n",
      "(), 4)\n",
      "(,, 5)\n",
      "(--, 6)\n",
      "(., 7)\n",
      "(:, 8)\n",
      "(;, 9)\n"
     ]
    }
   ],
   "source": [
    "\n",
    "# Convert Tokens to Token IDs\n",
    "\n",
    "sorted_tokens = sorted(set(preproccessed_text))\n",
    "print(\"Vocabulary size: \", len(sorted_tokens))\n",
    "\n",
    "# Build vocabulary\n",
    "# Vocabulary is mapping that maps a word to a token ID\n",
    "\n",
    "vocabulary = { token:integer for integer, token in enumerate(sorted_tokens) }\n",
    "print('Sample vocabulary:')\n",
    "for token, token_id in vocabulary.items():\n",
    "    if token_id < 10:\n",
    "        print(f'({token}, {token_id})')\n",
    "\n",
    "\n",
    "class SimpleTokenizerV1:\n",
    "    def __init__(self, vocabulary):\n",
    "        self.str_to_int = vocabulary\n",
    "        self.int_to_str = { token_id: token for token, token_id in vocabulary.items() }\n",
    "\n",
    "    def encode(self, text):\n",
    "        preproccessed_text = re.split(r'([,.:;?_!\"()\\'\\s]|--)', text)\n",
    "        preproccessed_text = [token for token in preproccessed_text if token.strip()]\n",
    "        ids = [ self.str_to_int[token] for token in preproccessed_text ]\n",
    "        return ids\n",
    "\n",
    "    def decode(self, ids):\n",
    "        text = \" \".join([ self.int_to_str[id_] for id_ in ids ])\n",
    "        # Replace space before punctuations\n",
    "        text = re.sub(r'\\s+([,.?!\"()\\'])', r'\\1', text)\n",
    "        return text\n",
    "\n",
    "tokenizer = SimpleTokenizerV1(vocabulary)\n",
    "token_ids = tokenizer.encode(text)"
   ]
  },
  {
   "cell_type": "code",
   "execution_count": 42,
   "id": "55e7286e-6aad-4931-bab4-e2a2fc4c87be",
   "metadata": {},
   "outputs": [
    {
     "name": "stdout",
     "output_type": "stream",
     "text": [
      "1134\n",
      "('younger', 1127)\n",
      "('your', 1128)\n",
      "('yourself', 1129)\n",
      "('<|endoftext|>', 1132)\n",
      "('<|unk|>', 1133)\n",
      "[1133, 0, 355, 1126, 628, 975, 10, 1132, 55, 988, 956, 984, 722, 988, 1133, 7]\n"
     ]
    },
    {
     "data": {
      "text/plain": [
       "'<|unk|>! do you like tea? <|endoftext|> In the sunlit terraces of the <|unk|>.'"
      ]
     },
     "execution_count": 42,
     "metadata": {},
     "output_type": "execute_result"
    }
   ],
   "source": [
    "# Special Context Tokens: To handle cases for unknown words that are not part of the vocabulary\n",
    "\n",
    "sorted_tokens.extend([\"<|endoftext|>\", \"<|unk|>\"])\n",
    "print(len(sorted_tokens))\n",
    "vocabulary = { token: token_id for token_id, token in enumerate(sorted_tokens) }\n",
    "\n",
    "for id_, vocab in enumerate(list(vocabulary.items())[-5:]):\n",
    "    print(vocab)\n",
    "\n",
    "\n",
    "class SimpleTokenizerV2:\n",
    "    def __init__(self, vocabulary):\n",
    "        self.str_to_int = vocabulary\n",
    "        self.int_to_str = { token_id: token for token, token_id in vocabulary.items() }\n",
    "\n",
    "    def encode(self, text):\n",
    "        preproccessed_text = re.split(r'([,.:;?_!\"()\\'\\s]|--)', text)\n",
    "        preproccessed_text = [token for token in preproccessed_text if token.strip()]\n",
    "        ids = []\n",
    "        for token in preproccessed_text:\n",
    "            if token not in self.str_to_int:\n",
    "                ids.append(self.str_to_int['<|unk|>'])\n",
    "            else:\n",
    "                ids.append(self.str_to_int[token])\n",
    "        return ids\n",
    "\n",
    "    def decode(self, ids):\n",
    "        text = \" \".join([ self.int_to_str[id_] for id_ in ids ])\n",
    "        # Replace space before punctuations\n",
    "        text = re.sub(r'\\s+([,.?!\"()\\'])', r'\\1', text)\n",
    "        return text\n",
    "\n",
    "tokenizer = SimpleTokenizerV2(vocabulary)\n",
    "first_phrase = \"Hello! do you like tea?\"\n",
    "second_phrase = \"In the sunlit terraces of the palace.\"\n",
    "text = \" <|endoftext|> \".join((first_phrase, second_phrase))\n",
    "token_ids = tokenizer.encode(text)\n",
    "print(token_ids)\n",
    "tokenizer.decode(token_ids)"
   ]
  }
 ],
 "metadata": {
  "kernelspec": {
   "display_name": "Python 3 (ipykernel)",
   "language": "python",
   "name": "python3"
  },
  "language_info": {
   "codemirror_mode": {
    "name": "ipython",
    "version": 3
   },
   "file_extension": ".py",
   "mimetype": "text/x-python",
   "name": "python",
   "nbconvert_exporter": "python",
   "pygments_lexer": "ipython3",
   "version": "3.11.10"
  }
 },
 "nbformat": 4,
 "nbformat_minor": 5
}
